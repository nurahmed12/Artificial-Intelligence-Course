{
  "nbformat": 4,
  "nbformat_minor": 0,
  "metadata": {
    "colab": {
      "provenance": [],
      "authorship_tag": "ABX9TyMcTOCHGQiVkIEFYxoG/QvA",
      "include_colab_link": true
    },
    "kernelspec": {
      "name": "python3",
      "display_name": "Python 3"
    },
    "language_info": {
      "name": "python"
    }
  },
  "cells": [
    {
      "cell_type": "markdown",
      "metadata": {
        "id": "view-in-github",
        "colab_type": "text"
      },
      "source": [
        "<a href=\"https://colab.research.google.com/github/nurahmed12/Artificial-Intelligence-Course/blob/main/AI_Lab_class_12_02_2025.ipynb\" target=\"_parent\"><img src=\"https://colab.research.google.com/assets/colab-badge.svg\" alt=\"Open In Colab\"/></a>"
      ]
    },
    {
      "cell_type": "markdown",
      "source": [
        "**Nur Ahmed 222-35-1111**"
      ],
      "metadata": {
        "id": "3Dc892Kb2FZl"
      }
    },
    {
      "cell_type": "markdown",
      "source": [
        "**Calculation of Area of the classroom**"
      ],
      "metadata": {
        "id": "kYZYxylXtHHj"
      }
    },
    {
      "cell_type": "code",
      "execution_count": null,
      "metadata": {
        "colab": {
          "base_uri": "https://localhost:8080/"
        },
        "id": "ZzTkBPkRs6lU",
        "outputId": "53fdbb32-7285-4b07-80c1-1396079665c9"
      },
      "outputs": [
        {
          "output_type": "stream",
          "name": "stdout",
          "text": [
            "Enter the width of the classroom : 66\n",
            "Enter the length of the classroom : 33\n",
            "The Area of the classroom is :  2178.0\n"
          ]
        }
      ],
      "source": [
        "width = float(input(\"Enter the width of the classroom : \"))\n",
        "length = float(input(\"Enter the length of the classroom : \"))\n",
        "\n",
        "def calculateArea():\n",
        "  '''\n",
        "  Calculates the Area of the classroom.\n",
        "  Returns the result.\n",
        "  '''\n",
        "  return width * length\n",
        "\n",
        "print(\"The Area of the classroom is : \" , calculateArea())"
      ]
    },
    {
      "cell_type": "code",
      "source": [],
      "metadata": {
        "id": "QXYBSXZ81Gen"
      },
      "execution_count": null,
      "outputs": []
    }
  ]
}