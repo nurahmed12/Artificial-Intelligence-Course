{
  "nbformat": 4,
  "nbformat_minor": 0,
  "metadata": {
    "colab": {
      "provenance": [],
      "authorship_tag": "ABX9TyO0m3DB2hzl9elw2qi5IOcL",
      "include_colab_link": true
    },
    "kernelspec": {
      "name": "python3",
      "display_name": "Python 3"
    },
    "language_info": {
      "name": "python"
    }
  },
  "cells": [
    {
      "cell_type": "markdown",
      "metadata": {
        "id": "view-in-github",
        "colab_type": "text"
      },
      "source": [
        "<a href=\"https://colab.research.google.com/github/nurahmed12/Artificial-Intelligence-Course/blob/main/Lab_Task_Basic_Python_Code.ipynb\" target=\"_parent\"><img src=\"https://colab.research.google.com/assets/colab-badge.svg\" alt=\"Open In Colab\"/></a>"
      ]
    },
    {
      "cell_type": "markdown",
      "source": [
        "**Nur Ahmed_222-35-1111_38A2**"
      ],
      "metadata": {
        "id": "krV1mKhRga9C"
      }
    },
    {
      "cell_type": "code",
      "execution_count": null,
      "metadata": {
        "colab": {
          "base_uri": "https://localhost:8080/"
        },
        "id": "5eRbjevrgQXB",
        "outputId": "98885821-66d7-47d7-e797-9d0eedb97d97"
      },
      "outputs": [
        {
          "output_type": "stream",
          "name": "stdout",
          "text": [
            "Hello World!\n"
          ]
        }
      ],
      "source": [
        "print('Hello World!')"
      ]
    },
    {
      "cell_type": "code",
      "source": [
        "name = input('Enter your name:')\n",
        "print(f\"Hello, {name}\")"
      ],
      "metadata": {
        "colab": {
          "base_uri": "https://localhost:8080/"
        },
        "id": "d0n95H6ggmkC",
        "outputId": "122de285-630d-4464-b28d-26b2269b790a"
      },
      "execution_count": null,
      "outputs": [
        {
          "output_type": "stream",
          "name": "stdout",
          "text": [
            "Enter your name:Nur Ahmed\n",
            "Hello, Nur Ahmed\n"
          ]
        }
      ]
    },
    {
      "cell_type": "code",
      "source": [
        "length = input(\"Enter length: \")\n",
        "width = input(\"Enter width: \")\n",
        "\n",
        "length = float(length)\n",
        "width = float(width)\n",
        "\n",
        "area = length * width\n",
        "\n",
        "print(f\"The area of the rectangle is {area}\")"
      ],
      "metadata": {
        "colab": {
          "base_uri": "https://localhost:8080/"
        },
        "id": "MeP2vECSg40v",
        "outputId": "cb9dcb0a-2c0b-4ded-88d7-61e803c0382b"
      },
      "execution_count": null,
      "outputs": [
        {
          "output_type": "stream",
          "name": "stdout",
          "text": [
            "Enter length: 23\n",
            "Enter width: 25\n",
            "The area of the rectangle is 575.0\n"
          ]
        }
      ]
    },
    {
      "cell_type": "code",
      "source": [
        "num = input(\"Enter a number: \")\n",
        "num = int(num)\n",
        "if num > 0:\n",
        "    print(\"Positive number\")\n",
        "elif num == 0:\n",
        "    print(\"Zero\")\n",
        "else:\n",
        "    print(\"Negative number\")"
      ],
      "metadata": {
        "colab": {
          "base_uri": "https://localhost:8080/"
        },
        "id": "1uJ5zP9thJKR",
        "outputId": "6da0dcfe-7c5a-4654-b5fc-9368832919af"
      },
      "execution_count": null,
      "outputs": [
        {
          "output_type": "stream",
          "name": "stdout",
          "text": [
            "Enter a number: 99\n",
            "Positive number\n"
          ]
        }
      ]
    },
    {
      "cell_type": "code",
      "source": [
        "for i in range(1, 11):\n",
        "    print(i)"
      ],
      "metadata": {
        "colab": {
          "base_uri": "https://localhost:8080/"
        },
        "id": "71uvwvDShXfm",
        "outputId": "3793bd50-22f7-4ae9-f35e-bb0e65fda7c6"
      },
      "execution_count": null,
      "outputs": [
        {
          "output_type": "stream",
          "name": "stdout",
          "text": [
            "1\n",
            "2\n",
            "3\n",
            "4\n",
            "5\n",
            "6\n",
            "7\n",
            "8\n",
            "9\n",
            "10\n"
          ]
        }
      ]
    },
    {
      "cell_type": "code",
      "source": [
        "def add_numbers(a, b):\n",
        "    return a + b\n",
        "\n",
        "num1 = float(input(\"Enter first number: \"))\n",
        "num2 = float(input(\"Enter second number: \"))\n",
        "result = add_numbers(num1, num2)\n",
        "print(f\"The sum is {result}\")"
      ],
      "metadata": {
        "colab": {
          "base_uri": "https://localhost:8080/"
        },
        "id": "BsI8pTU_heRh",
        "outputId": "a6d15e6f-b94e-4490-8e8e-d3f6d5888668"
      },
      "execution_count": null,
      "outputs": [
        {
          "output_type": "stream",
          "name": "stdout",
          "text": [
            "Enter first number: 2\n",
            "Enter second number: 5\n",
            "The sum is 7.0\n"
          ]
        }
      ]
    },
    {
      "cell_type": "code",
      "source": [
        "def add(a, b):\n",
        "    return a + b\n",
        "\n",
        "def subtract(a, b):\n",
        "    return a - b\n",
        "\n",
        "def multiply(a, b):\n",
        "    return a * b\n",
        "\n",
        "def divide(a, b):\n",
        "    return a / b\n",
        "\n",
        "print(\"Options: 1-Add, 2-Subtract, 3-Multiply, 4-Divide\")\n",
        "choice = int(input(\"Enter your choice: \"))\n",
        "num1 = float(input(\"Enter first number: \"))\n",
        "num2 = float(input(\"Enter second number: \"))\n",
        "\n",
        "if choice == 1:\n",
        "    print(\"Result:\", add(num1, num2))\n",
        "elif choice == 2:\n",
        "    print(\"Result:\", subtract(num1, num2))\n",
        "elif choice == 3:\n",
        "    print(\"Result:\", multiply(num1, num2))\n",
        "elif choice == 4:\n",
        "    if num2 != 0:\n",
        "        print(\"Result:\", divide(num1, num2))\n",
        "    else:\n",
        "        print(\"Error: Division by zero\")\n",
        "else:\n",
        "    print(\"Invalid choice\")"
      ],
      "metadata": {
        "colab": {
          "base_uri": "https://localhost:8080/"
        },
        "id": "DGkuMx5Ahy-p",
        "outputId": "bdc54528-c365-430f-fec0-99cbdff841b0"
      },
      "execution_count": null,
      "outputs": [
        {
          "output_type": "stream",
          "name": "stdout",
          "text": [
            "Options: 1-Add, 2-Subtract, 3-Multiply, 4-Divide\n",
            "Enter your choice: 2\n",
            "Enter first number: 9\n",
            "Enter second number: 4\n",
            "Result: 5.0\n"
          ]
        }
      ]
    },
    {
      "cell_type": "code",
      "source": [
        "def add(a, b):\n",
        "    return a + b\n",
        "\n",
        "def subtract(a, b):\n",
        "    return a - b\n",
        "\n",
        "def multiply(a, b):\n",
        "    return a * b\n",
        "\n",
        "def divide(a, b):\n",
        "    if b == 0:\n",
        "        raise ZeroDivisionError(\"Division by zero is not allowed.\")\n",
        "    return a / b"
      ],
      "metadata": {
        "id": "0l9_kAheiB2J"
      },
      "execution_count": null,
      "outputs": []
    },
    {
      "cell_type": "code",
      "source": [
        "print(\"Options: 1-Add, 2-Subtract, 3-Multiply, 4-Divide\")\n",
        "choice = int(input(\"Enter your choice: \"))\n",
        "num1 = float(input(\"Enter first number: \"))\n",
        "num2 = float(input(\"Enter second number: \"))\n",
        "\n",
        "if choice == 1:\n",
        "    print(\"Result:\", add(num1, num2))\n",
        "elif choice == 2:\n",
        "    print(\"Result:\", subtract(num1, num2))\n",
        "elif choice == 3:\n",
        "    print(\"Result:\", multiply(num1, num2))\n",
        "elif choice == 4:\n",
        "    if num2 != 0:\n",
        "        print(\"Result:\", divide(num1, num2))\n",
        "    else:\n",
        "        print(\"Error: Division by zero\")\n",
        "else:\n",
        "    print(\"Invalid choice\")"
      ],
      "metadata": {
        "colab": {
          "base_uri": "https://localhost:8080/"
        },
        "id": "KQOU4H7oifHP",
        "outputId": "4239b000-2fa2-4ebf-c73b-732eab6d958f"
      },
      "execution_count": null,
      "outputs": [
        {
          "output_type": "stream",
          "name": "stdout",
          "text": [
            "Options: 1-Add, 2-Subtract, 3-Multiply, 4-Divide\n",
            "Enter your choice: 1\n",
            "Enter first number: 7\n",
            "Enter second number: 9\n",
            "Result: 16.0\n"
          ]
        }
      ]
    },
    {
      "cell_type": "code",
      "source": [],
      "metadata": {
        "id": "2EuWw__sikR6"
      },
      "execution_count": null,
      "outputs": []
    }
  ]
}